{
  "nbformat": 4,
  "nbformat_minor": 0,
  "metadata": {
    "colab": {
      "name": "lec21.ipynb",
      "provenance": []
    },
    "kernelspec": {
      "name": "python3",
      "display_name": "Python 3"
    }
  },
  "cells": [
    {
      "cell_type": "code",
      "metadata": {
        "id": "h1K2c3pHSDN4",
        "colab_type": "code",
        "colab": {}
      },
      "source": [
        " import numpy as np\n",
        " import matplotlib.pyplot as plt"
      ],
      "execution_count": 5,
      "outputs": []
    },
    {
      "cell_type": "code",
      "metadata": {
        "id": "PRTDT8YjVlO5",
        "colab_type": "code",
        "colab": {
          "base_uri": "https://localhost:8080/",
          "height": 269
        },
        "outputId": "43049e96-16b5-4335-b92f-f26cb99ff7ec"
      },
      "source": [
        "# x, y座標\n",
        "X = np.arange(-1.0, 1.0, 0.2)\n",
        "Y = np.arange(-1.0, 1.0, 0.2)\n",
        "\n",
        "# 出力を格納する10x10のグリッド\n",
        "Z = np.zeros((10, 10))\n",
        "\n",
        "# 重み\n",
        "w_im = np.array([[4.0, 4.0],\n",
        "                 [4.0, 4.0]])\n",
        "w_mo = np.array([[1.0],\n",
        "                 [-1.0]])\n",
        "\n",
        "# バイアス                 \n",
        "b_im = np.array([3.0, -3.0])\n",
        "b_mo = np.array([0.1])\n",
        "\n",
        "# 中間層\n",
        "def middle_layer(x, w, b):\n",
        "  u = np.dot(x, w) + b\n",
        "  return 1/(1+np.exp(-u)) # シグモイド関数\n",
        "\n",
        "# 出力層\n",
        "def output_layer(x, w, b):\n",
        "  u = np.dot(x, w) + b\n",
        "  return u  # 恒等関数\n",
        "\n",
        "#  グリッドの各マスでニューラルネットワークの演算\n",
        "for i in range(10):\n",
        "  for j in range(10):\n",
        "\n",
        "    # 順伝播\n",
        "    inp = np.array([X[i], Y[j]])               # 入力層\n",
        "    mid = middle_layer(inp, w_im, b_im)   # 中間層\n",
        "    out = output_layer(mid, w_mo, b_mo) # 出力層\n",
        "\n",
        "    # グリッドにNNの出力を格納\n",
        "    Z[j][i] = out[0]\n",
        "\n",
        "# グリッドの表示\n",
        "plt.imshow(Z, \"gray\", vmin = 0.0, vmax = 1.0)\n",
        "plt.colorbar()\n",
        "plt.show()"
      ],
      "execution_count": 13,
      "outputs": [
        {
          "output_type": "display_data",
          "data": {
            "image/png": "[encoded data removed]",
            "text/plain": [
              "<Figure size 432x288 with 2 Axes>"
            ]
          },
          "metadata": {
            "tags": [],
            "needs_background": "light"
          }
        }
      ]
    },
    {
      "cell_type": "code",
      "metadata": {
        "id": "RyqkFigfV84B",
        "colab_type": "code",
        "colab": {}
      },
      "source": [
        ""
      ],
      "execution_count": 11,
      "outputs": []
    }
  ]
}