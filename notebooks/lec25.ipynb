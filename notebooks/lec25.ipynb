{
  "nbformat": 4,
  "nbformat_minor": 0,
  "metadata": {
    "colab": {
      "name": "lec25.ipynb",
      "provenance": []
    },
    "kernelspec": {
      "name": "python3",
      "display_name": "Python 3"
    }
  },
  "cells": [
    {
      "cell_type": "code",
      "metadata": {
        "id": "nd46pdij5mrs",
        "colab_type": "code",
        "colab": {}
      },
      "source": [
        "import numpy as np"
      ],
      "execution_count": 2,
      "outputs": []
    },
    {
      "cell_type": "code",
      "metadata": {
        "id": "iEFwuC2-6_yz",
        "colab_type": "code",
        "colab": {
          "base_uri": "https://localhost:8080/",
          "height": 34
        },
        "outputId": "32d2907e-3fe2-4ba0-e636-8aa22fd1d563"
      },
      "source": [
        "# 二乗和誤差\n",
        "def square_sum(y, t): # 出力、正解\n",
        "  return 1.0/2.0 * np.sum(np.square(y - t))\n",
        "\n",
        "y = np.array([2, 2, 2, 2])\n",
        "t = np.array([1, 1, 1, 1])\n",
        "print(square_sum(y, t))"
      ],
      "execution_count": 3,
      "outputs": [
        {
          "output_type": "stream",
          "text": [
            "2.0\n"
          ],
          "name": "stdout"
        }
      ]
    },
    {
      "cell_type": "code",
      "metadata": {
        "id": "JqD4M3Rm8V_z",
        "colab_type": "code",
        "colab": {}
      },
      "source": [
        "# 交差エントロピー誤差\n",
        "\n",
        "def cross_entory(y, t): # 出力、正解\n",
        "  return - np.sum(t * np.log(y + le-7))"
      ],
      "execution_count": 5,
      "outputs": []
    },
    {
      "cell_type": "code",
      "metadata": {
        "id": "eKGZCQVc8w8N",
        "colab_type": "code",
        "colab": {}
      },
      "source": [
        ""
      ],
      "execution_count": null,
      "outputs": []
    }
  ]
}