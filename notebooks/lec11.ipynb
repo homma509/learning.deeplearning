{
  "nbformat": 4,
  "nbformat_minor": 0,
  "metadata": {
    "colab": {
      "name": "lec11.ipynb",
      "provenance": []
    },
    "kernelspec": {
      "name": "python3",
      "display_name": "Python 3"
    }
  },
  "cells": [
    {
      "cell_type": "code",
      "metadata": {
        "id": "TDj0TmGzy6BT",
        "colab_type": "code",
        "colab": {}
      },
      "source": [
        "import numpy as np"
      ],
      "execution_count": 1,
      "outputs": []
    },
    {
      "cell_type": "code",
      "metadata": {
        "id": "xk1tuqf7y9NG",
        "colab_type": "code",
        "colab": {
          "base_uri": "https://localhost:8080/",
          "height": 51
        },
        "outputId": "dee94ad5-c836-42e4-e27d-f25040a2e6ac"
      },
      "source": [
        "a = np.array([1, 2, 3])\n",
        "print(a)\n",
        "\n",
        "b = np.array([-2.3, 0.25, -1.2, 1.8, 0.41])\n",
        "print(b)"
      ],
      "execution_count": 3,
      "outputs": [
        {
          "output_type": "stream",
          "text": [
            "[1 2 3]\n",
            "[-2.3   0.25 -1.2   1.8   0.41]\n"
          ],
          "name": "stdout"
        }
      ]
    },
    {
      "cell_type": "code",
      "metadata": {
        "id": "sKncDgnty_p5",
        "colab_type": "code",
        "colab": {
          "base_uri": "https://localhost:8080/",
          "height": 102
        },
        "outputId": "aceef705-a6ee-4553-fa24-ed6feebabb79"
      },
      "source": [
        "a = np.array([[1, 2, 3],\n",
        "              [4, 5, 6]])\n",
        "print(a)\n",
        "\n",
        "b = np.array([[0.21, 0.14],\n",
        "              [-1.3, 0.81],\n",
        "              [0.12, -2.1]])\n",
        "print(b)"
      ],
      "execution_count": 5,
      "outputs": [
        {
          "output_type": "stream",
          "text": [
            "[[1 2 3]\n",
            " [4 5 6]]\n",
            "[[ 0.21  0.14]\n",
            " [-1.3   0.81]\n",
            " [ 0.12 -2.1 ]]\n"
          ],
          "name": "stdout"
        }
      ]
    },
    {
      "cell_type": "code",
      "metadata": {
        "id": "vE5ny_q1z0M1",
        "colab_type": "code",
        "colab": {
          "base_uri": "https://localhost:8080/",
          "height": 136
        },
        "outputId": "c5139c70-e6eb-48db-cffb-f0ee61a2e2f1"
      },
      "source": [
        "a = np.array([[[0, 1, 2, 3],\n",
        "               [2, 3, 4, 5],\n",
        "               [4, 5, 6, 7]],\n",
        "              [[1, 2, 3, 4],\n",
        "               [3, 4, 5, 6],\n",
        "               [5, 6, 7, 8]]])\n",
        "print(a)               "
      ],
      "execution_count": 8,
      "outputs": [
        {
          "output_type": "stream",
          "text": [
            "[[[0 1 2 3]\n",
            "  [2 3 4 5]\n",
            "  [4 5 6 7]]\n",
            "\n",
            " [[1 2 3 4]\n",
            "  [3 4 5 6]\n",
            "  [5 6 7 8]]]\n"
          ],
          "name": "stdout"
        }
      ]
    },
    {
      "cell_type": "code",
      "metadata": {
        "id": "Pq30ZhNU0u0Y",
        "colab_type": "code",
        "colab": {
          "base_uri": "https://localhost:8080/",
          "height": 51
        },
        "outputId": "654b68ea-6e78-4f09-967c-a18c3b827e76"
      },
      "source": [
        "a = [[0, 1, 2],\n",
        "     [1, 2, 3]]\n",
        "\n",
        "b = [[2, 1],\n",
        "     [2, 1],\n",
        "     [2, 1]]     \n",
        "\n",
        "print(np.dot(a, b))     "
      ],
      "execution_count": 9,
      "outputs": [
        {
          "output_type": "stream",
          "text": [
            "[[ 6  3]\n",
            " [12  6]]\n"
          ],
          "name": "stdout"
        }
      ]
    },
    {
      "cell_type": "code",
      "metadata": {
        "id": "53tXixCd1y2c",
        "colab_type": "code",
        "colab": {
          "base_uri": "https://localhost:8080/",
          "height": 68
        },
        "outputId": "02abe9e7-c7a9-4912-b8d1-d84eabd46e74"
      },
      "source": [
        "a = np.array([[0, 1, 2],\n",
        "     [3, 4, 5],\n",
        "     [6, 7, 8]])\n",
        "b = np.array([[0, 1, 2],\n",
        "             [2, 0, 1],\n",
        "             [1, 2, 0]])     \n",
        "\n",
        "print(a*b)\n"
      ],
      "execution_count": 11,
      "outputs": [
        {
          "output_type": "stream",
          "text": [
            "[[ 0  1  4]\n",
            " [ 6  0  5]\n",
            " [ 6 14  0]]\n"
          ],
          "name": "stdout"
        }
      ]
    },
    {
      "cell_type": "code",
      "metadata": {
        "id": "3mgGPvZZ2MzE",
        "colab_type": "code",
        "colab": {
          "base_uri": "https://localhost:8080/",
          "height": 68
        },
        "outputId": "c723bef6-46b6-47c4-8c5d-f8abb7b48188"
      },
      "source": [
        "a = np.array([[1, 2, 3],\n",
        "              [4, 5, 6]])\n",
        "\n",
        "print(a.T)              "
      ],
      "execution_count": 12,
      "outputs": [
        {
          "output_type": "stream",
          "text": [
            "[[1 4]\n",
            " [2 5]\n",
            " [3 6]]\n"
          ],
          "name": "stdout"
        }
      ]
    },
    {
      "cell_type": "code",
      "metadata": {
        "id": "SfTK1scD2lnj",
        "colab_type": "code",
        "colab": {}
      },
      "source": [
        ""
      ],
      "execution_count": null,
      "outputs": []
    }
  ]
}