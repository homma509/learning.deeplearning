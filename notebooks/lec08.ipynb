{
  "nbformat": 4,
  "nbformat_minor": 0,
  "metadata": {
    "colab": {
      "name": "lec8.ipynb",
      "provenance": []
    },
    "kernelspec": {
      "name": "python3",
      "display_name": "Python 3"
    }
  },
  "cells": [
    {
      "cell_type": "code",
      "metadata": {
        "id": "h-S_R79XZDYZ",
        "colab_type": "code",
        "colab": {}
      },
      "source": [
        "import numpy as np"
      ],
      "execution_count": 1,
      "outputs": []
    },
    {
      "cell_type": "code",
      "metadata": {
        "id": "DqTTiJMCZSbI",
        "colab_type": "code",
        "colab": {
          "base_uri": "https://localhost:8080/",
          "height": 34
        },
        "outputId": "cda3a8fc-6e66-463d-fcc5-4b1381b0761f"
      },
      "source": [
        "a = np.array([0, 1, 2, 3, 4, 5])\n",
        "print(a)"
      ],
      "execution_count": 2,
      "outputs": [
        {
          "output_type": "stream",
          "text": [
            "[0 1 2 3 4 5]\n"
          ],
          "name": "stdout"
        }
      ]
    },
    {
      "cell_type": "code",
      "metadata": {
        "id": "d4AmyLZkaZ0L",
        "colab_type": "code",
        "colab": {
          "base_uri": "https://localhost:8080/",
          "height": 51
        },
        "outputId": "67ba1c7a-3dd1-4ca6-f772-16a08e284437"
      },
      "source": [
        "b = np.array([[0, 1, 2], [3, 4, 5]])\n",
        "print(b)"
      ],
      "execution_count": 4,
      "outputs": [
        {
          "output_type": "stream",
          "text": [
            "[[0 1 2]\n",
            " [3 4 5]]\n"
          ],
          "name": "stdout"
        }
      ]
    },
    {
      "cell_type": "code",
      "metadata": {
        "id": "S9PP8zTGajHe",
        "colab_type": "code",
        "colab": {
          "base_uri": "https://localhost:8080/",
          "height": 102
        },
        "outputId": "5897c6bf-9185-4aee-92a1-c715e743c47d"
      },
      "source": [
        "c = np.array([[[0, 1, 2], [3, 4, 5]], [[5, 4, 3], [2, 1, 0]]])\n",
        "print(c)"
      ],
      "execution_count": 5,
      "outputs": [
        {
          "output_type": "stream",
          "text": [
            "[[[0 1 2]\n",
            "  [3 4 5]]\n",
            "\n",
            " [[5 4 3]\n",
            "  [2 1 0]]]\n"
          ],
          "name": "stdout"
        }
      ]
    },
    {
      "cell_type": "code",
      "metadata": {
        "id": "pwbSA7mdbI34",
        "colab_type": "code",
        "colab": {
          "base_uri": "https://localhost:8080/",
          "height": 204
        },
        "outputId": "c5437aae-0a1f-4302-e393-2441ef6767ca"
      },
      "source": [
        "a = np.array([[0, 1, 2], [3, 4, 5]])\n",
        "c = np.array([[2, 0, 1], [5, 3, 4]])\n",
        "print(a)\n",
        "print()\n",
        "print(c)\n",
        "print()\n",
        "print(b + c)\n",
        "print()\n",
        "print(b * c)\n"
      ],
      "execution_count": 6,
      "outputs": [
        {
          "output_type": "stream",
          "text": [
            "[[0 1 2]\n",
            " [3 4 5]]\n",
            "\n",
            "[[2 0 1]\n",
            " [5 3 4]]\n",
            "\n",
            "[[2 1 3]\n",
            " [8 7 9]]\n",
            "\n",
            "[[ 0  0  2]\n",
            " [15 12 20]]\n"
          ],
          "name": "stdout"
        }
      ]
    },
    {
      "cell_type": "code",
      "metadata": {
        "id": "-3R1gZMybiUD",
        "colab_type": "code",
        "colab": {
          "base_uri": "https://localhost:8080/",
          "height": 51
        },
        "outputId": "49e0e534-7d1a-49e2-d540-8176e131a1f1"
      },
      "source": [
        "d = np.array([[1, 1], [1, 1]])\n",
        "e = np.array([1, 2])\n",
        "\n",
        "print(d + e)"
      ],
      "execution_count": 7,
      "outputs": [
        {
          "output_type": "stream",
          "text": [
            "[[2 3]\n",
            " [2 3]]\n"
          ],
          "name": "stdout"
        }
      ]
    },
    {
      "cell_type": "code",
      "metadata": {
        "id": "ij9BK84Lb63d",
        "colab_type": "code",
        "colab": {
          "base_uri": "https://localhost:8080/",
          "height": 34
        },
        "outputId": "570b6726-7025-480f-ee7f-530783b6e279"
      },
      "source": [
        "a = np.array([[0, 1, 2], [3, 4, 5]])\n",
        "print(a.shape)"
      ],
      "execution_count": 8,
      "outputs": [
        {
          "output_type": "stream",
          "text": [
            "(2, 3)\n"
          ],
          "name": "stdout"
        }
      ]
    },
    {
      "cell_type": "code",
      "metadata": {
        "id": "ywYIgSSZcLyS",
        "colab_type": "code",
        "colab": {
          "base_uri": "https://localhost:8080/",
          "height": 51
        },
        "outputId": "80cf399a-9ff0-4668-a94d-c1ea266674c0"
      },
      "source": [
        "b = np.array([0, 1, 2, 3, 4, 5, 6, 7])\n",
        "c = b.reshape(2, 4)\n",
        "print(c)"
      ],
      "execution_count": 9,
      "outputs": [
        {
          "output_type": "stream",
          "text": [
            "[[0 1 2 3]\n",
            " [4 5 6 7]]\n"
          ],
          "name": "stdout"
        }
      ]
    },
    {
      "cell_type": "code",
      "metadata": {
        "id": "jeymO2xTcbkX",
        "colab_type": "code",
        "colab": {
          "base_uri": "https://localhost:8080/",
          "height": 34
        },
        "outputId": "c32c1229-f653-4945-a473-22aa4cef7129"
      },
      "source": [
        "d = np.array([[[0, 1, 2], [3, 4, 5]], [[5, 4, 3], [2, 1, 0]]])\n",
        "e = d.reshape(-1)\n",
        "print(e)"
      ],
      "execution_count": 13,
      "outputs": [
        {
          "output_type": "stream",
          "text": [
            "[0 1 2 3 4 5 5 4 3 2 1 0]\n"
          ],
          "name": "stdout"
        }
      ]
    },
    {
      "cell_type": "code",
      "metadata": {
        "id": "GodC79ircvgI",
        "colab_type": "code",
        "colab": {
          "base_uri": "https://localhost:8080/",
          "height": 34
        },
        "outputId": "0a939892-e26a-48d7-d49d-aa153740e9ca"
      },
      "source": [
        "a = np.array([0, 1, 2, 3, 4, 5])\n",
        "print(a[2])"
      ],
      "execution_count": 14,
      "outputs": [
        {
          "output_type": "stream",
          "text": [
            "2\n"
          ],
          "name": "stdout"
        }
      ]
    },
    {
      "cell_type": "code",
      "metadata": {
        "id": "eMeS5t6xdQm8",
        "colab_type": "code",
        "colab": {
          "base_uri": "https://localhost:8080/",
          "height": 34
        },
        "outputId": "d52977e7-0ec5-41b9-ecdd-3f687c883177"
      },
      "source": [
        "a[2] = 9\n",
        "print(a)"
      ],
      "execution_count": 15,
      "outputs": [
        {
          "output_type": "stream",
          "text": [
            "[0 1 9 3 4 5]\n"
          ],
          "name": "stdout"
        }
      ]
    },
    {
      "cell_type": "code",
      "metadata": {
        "id": "BwGxbIaFdT8e",
        "colab_type": "code",
        "colab": {
          "base_uri": "https://localhost:8080/",
          "height": 34
        },
        "outputId": "26d9fa43-b0df-46dc-9e38-04c125bfe657"
      },
      "source": [
        "b = np.array([[0, 1, 2], [3, 4, 5]])\n",
        "print(b[1, 2])"
      ],
      "execution_count": 17,
      "outputs": [
        {
          "output_type": "stream",
          "text": [
            "5\n"
          ],
          "name": "stdout"
        }
      ]
    },
    {
      "cell_type": "code",
      "metadata": {
        "id": "19VPc-9odg5E",
        "colab_type": "code",
        "colab": {
          "base_uri": "https://localhost:8080/",
          "height": 51
        },
        "outputId": "22c35701-aa47-4a4d-9ea9-4a4310339e29"
      },
      "source": [
        "b[1, 2] = 9\n",
        "print(b)"
      ],
      "execution_count": 18,
      "outputs": [
        {
          "output_type": "stream",
          "text": [
            "[[0 1 2]\n",
            " [3 4 9]]\n"
          ],
          "name": "stdout"
        }
      ]
    },
    {
      "cell_type": "code",
      "metadata": {
        "id": "tGZkB6zsdn8-",
        "colab_type": "code",
        "colab": {
          "base_uri": "https://localhost:8080/",
          "height": 51
        },
        "outputId": "2d31c969-e452-4dd5-e3a8-a90c204abbe1"
      },
      "source": [
        "def my_func(x):\n",
        "  y = x * 2 + 1\n",
        "  return y\n",
        "\n",
        "a = np.array([[0, 1, 2], [3, 4, 5]])\n",
        "b = my_func(a)\n",
        "\n",
        "print(b)"
      ],
      "execution_count": 19,
      "outputs": [
        {
          "output_type": "stream",
          "text": [
            "[[ 1  3  5]\n",
            " [ 7  9 11]]\n"
          ],
          "name": "stdout"
        }
      ]
    },
    {
      "cell_type": "code",
      "metadata": {
        "id": "3m4p1k9rd6gE",
        "colab_type": "code",
        "colab": {
          "base_uri": "https://localhost:8080/",
          "height": 85
        },
        "outputId": "567c45c7-fb52-4f29-fa4b-10f0b15578cf"
      },
      "source": [
        "a = np.array([[0, 1, 2], [3, 4, 5]])\n",
        "\n",
        "print(np.sum(a))\n",
        "print(np.average(a))\n",
        "print(np.max(a))\n",
        "print(np.min(a))"
      ],
      "execution_count": 21,
      "outputs": [
        {
          "output_type": "stream",
          "text": [
            "15\n",
            "2.5\n",
            "5\n",
            "0\n"
          ],
          "name": "stdout"
        }
      ]
    },
    {
      "cell_type": "code",
      "metadata": {
        "id": "OXXbJDgQeZ3p",
        "colab_type": "code",
        "colab": {
          "base_uri": "https://localhost:8080/",
          "height": 51
        },
        "outputId": "236b9e62-4971-4ca0-e244-d643b73b082a"
      },
      "source": [
        "b = np.array([[0, 1, 2], [3, 4, 5]])\n",
        "\n",
        "print(np.sum(b, axis=0))\n",
        "print(np.sum(b, axis=1))"
      ],
      "execution_count": 22,
      "outputs": [
        {
          "output_type": "stream",
          "text": [
            "[3 5 7]\n",
            "[ 3 12]\n"
          ],
          "name": "stdout"
        }
      ]
    },
    {
      "cell_type": "code",
      "metadata": {
        "id": "2hYI2oTjeqD7",
        "colab_type": "code",
        "colab": {}
      },
      "source": [
        ""
      ],
      "execution_count": null,
      "outputs": []
    }
  ]
}