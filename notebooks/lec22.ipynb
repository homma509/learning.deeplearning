{
  "nbformat": 4,
  "nbformat_minor": 0,
  "metadata": {
    "colab": {
      "name": "lec22.ipynb",
      "provenance": []
    },
    "kernelspec": {
      "name": "python3",
      "display_name": "Python 3"
    }
  },
  "cells": [
    {
      "cell_type": "code",
      "metadata": {
        "id": "QkPY89H2KTFM",
        "colab_type": "code",
        "colab": {}
      },
      "source": [
        "import numpy as np\n",
        "import matplotlib.pyplot as plt\n"
      ],
      "execution_count": 1,
      "outputs": []
    },
    {
      "cell_type": "code",
      "metadata": {
        "id": "V2EYHDaWLl7G",
        "colab_type": "code",
        "colab": {
          "base_uri": "https://localhost:8080/",
          "height": 265
        },
        "outputId": "62ee438c-3d43-4020-bffd-6fb90bb4d769"
      },
      "source": [
        "# x, y座標\n",
        "X = np.arange(-1.0, 1.0, 0.1)\n",
        "Y = np.arange(-1.0, 1.0, 0.1)\n",
        "\n",
        "# 重み\n",
        "w_im = np.array([[1.0, 2.0],\n",
        "                 [2.0,3.0]]) # 中間層\n",
        "w_mo = np.array([[-1.0, 1.0],\n",
        "                 [1.0,-1.0]]) # 出力層\n",
        "\n",
        "# バイアス\n",
        "b_im = np.array([0.3,-0.3]) # 中間層\n",
        "b_mo = np.array([0.4,0.1]) # 出力層\n",
        "\n",
        "# 中間層\n",
        "def middle_layer(x, w, b):\n",
        "  u = np.dot(x, w) + b\n",
        "  return 1/(1+np.exp(-u)) # シグモイド関数\n",
        "\n",
        "# 出力層 \n",
        "def output_layer(x, w, b):\n",
        "  u = np.dot(x, w) + b\n",
        "  return np.exp(u)/np.sum(np.exp(u)) # ソフトマックス関数\n",
        "\n",
        "# 結果\n",
        "x_1 = []\n",
        "y_1 = []\n",
        "x_2 = []\n",
        "y_2 = []\n",
        "\n",
        "# 演算\n",
        "for i in range(20):\n",
        "  for j in range(20):\n",
        "\n",
        "    # 順伝播\n",
        "    inp = np.array([X[i], Y[j]])\n",
        "    mid = middle_layer(inp, w_im, b_im)\n",
        "    out = output_layer(mid, w_mo, b_mo)\n",
        "\n",
        "    # 分類\n",
        "    if out[0] > out[1]:\n",
        "      x_1.append(X[i])\n",
        "      y_1.append(Y[j])\n",
        "    else:\n",
        "      x_2.append(X[i])\n",
        "      y_2.append(Y[j])\n",
        "\n",
        "# 散布図の表示\n",
        "plt.scatter(x_1, y_1, marker=\"+\")\n",
        "plt.scatter(x_2, y_2, marker=\"o\")\n",
        "plt.show()\n"
      ],
      "execution_count": 6,
      "outputs": [
        {
          "output_type": "display_data",
          "data": {
            "image/png": "[encoded data removed]",
            "text/plain": [
              "<Figure size 432x288 with 1 Axes>"
            ]
          },
          "metadata": {
            "tags": [],
            "needs_background": "light"
          }
        }
      ]
    },
    {
      "cell_type": "code",
      "metadata": {
        "id": "2mDZLNeRM2s3",
        "colab_type": "code",
        "colab": {}
      },
      "source": [
        ""
      ],
      "execution_count": null,
      "outputs": []
    }
  ]
}