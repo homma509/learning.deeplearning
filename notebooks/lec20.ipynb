{
  "nbformat": 4,
  "nbformat_minor": 0,
  "metadata": {
    "colab": {
      "name": "lec20.ipynb",
      "provenance": []
    },
    "kernelspec": {
      "name": "python3",
      "display_name": "Python 3"
    }
  },
  "cells": [
    {
      "cell_type": "code",
      "metadata": {
        "id": "g8XgvLZow_f2",
        "colab_type": "code",
        "colab": {}
      },
      "source": [
        "import numpy as np\n",
        "import matplotlib.pyplot as plt"
      ],
      "execution_count": 4,
      "outputs": []
    },
    {
      "cell_type": "code",
      "metadata": {
        "id": "qHm_wHGGxE2u",
        "colab_type": "code",
        "colab": {
          "base_uri": "https://localhost:8080/",
          "height": 269
        },
        "outputId": "1a44511a-d687-48fa-9ca4-4cf45c07027e"
      },
      "source": [
        "# 入力\n",
        "X = np.arange(-1.0, 1.0, 0.2)\n",
        "Y = np.arange(-1.0, 1.0, 0.2)\n",
        "\n",
        "# 出力\n",
        "Z = np.zeros((10, 10))\n",
        "\n",
        "# 重み\n",
        "w_x = 2.5\n",
        "w_y = 3.0\n",
        "\n",
        "#バイアス\n",
        "bias = 0.1\n",
        "\n",
        "for i in range(10):\n",
        "  for j in range(10):\n",
        "    u = X[i]*w_x + Y[j]*w_y + bias\n",
        "\n",
        "    y = 1/(1+np.exp(-u))  # シグモイド関数\n",
        "    Z[j][i] = y\n",
        "\n",
        "plt.imshow(Z, \"gray\", vmin = 0.0, vmax=1.0)\n",
        "plt.colorbar()\n",
        "plt.show()"
      ],
      "execution_count": 5,
      "outputs": [
        {
          "output_type": "display_data",
          "data": {
            "image/png": "[encoded data removed]",
            "text/plain": [
              "<Figure size 432x288 with 2 Axes>"
            ]
          },
          "metadata": {
            "tags": [],
            "needs_background": "light"
          }
        }
      ]
    },
    {
      "cell_type": "code",
      "metadata": {
        "id": "sJs5pYHXxROm",
        "colab_type": "code",
        "colab": {}
      },
      "source": [
        ""
      ],
      "execution_count": null,
      "outputs": []
    }
  ]
}